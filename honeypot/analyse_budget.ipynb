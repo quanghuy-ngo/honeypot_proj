{
 "cells": [
  {
   "cell_type": "code",
   "execution_count": 18,
   "id": "ab16dd22",
   "metadata": {},
   "outputs": [
    {
     "data": {
      "text/plain": [
       "[0.9297031746031749,\n",
       " 0.8526357142857144,\n",
       " 0.798055555555556,\n",
       " 0.7539825396825399,\n",
       " 0.7063063492063492,\n",
       " 0.6669285714285715,\n",
       " 0.6250230158730159,\n",
       " 0.5917055555555555,\n",
       " 0.5627999999999999,\n",
       " 0.5469230158730156,\n",
       " 0.5152507936507933,\n",
       " 0.49782301587301536,\n",
       " 0.4817531746031739,\n",
       " 0.48549999999999927,\n",
       " -1.0547118733938987e-15,\n",
       " -1.0547118733938987e-15,\n",
       " -1.0547118733938987e-15,\n",
       " -1.0547118733938987e-15,\n",
       " -1.0547118733938987e-15,\n",
       " -1.0547118733938987e-15,\n",
       " -1.0547118733938987e-15,\n",
       " -1.0547118733938987e-15,\n",
       " -1.0547118733938987e-15,\n",
       " -1.0547118733938987e-15,\n",
       " -1.0547118733938987e-15,\n",
       " -1.0547118733938987e-15,\n",
       " -1.0547118733938987e-15,\n",
       " -1.0547118733938987e-15,\n",
       " -1.0547118733938987e-15,\n",
       " -1.0547118733938987e-15,\n",
       " -1.0547118733938987e-15,\n",
       " -1.0547118733938987e-15,\n",
       " -1.0547118733938987e-15,\n",
       " -1.0547118733938987e-15,\n",
       " -1.0547118733938987e-15,\n",
       " -1.0547118733938987e-15,\n",
       " -1.0547118733938987e-15,\n",
       " -1.0547118733938987e-15,\n",
       " -1.0547118733938987e-15,\n",
       " -1.0547118733938987e-15,\n",
       " -1.0547118733938987e-15,\n",
       " -1.0547118733938987e-15,\n",
       " -1.0547118733938987e-15,\n",
       " -1.0547118733938987e-15,\n",
       " -1.0547118733938987e-15,\n",
       " -1.0547118733938987e-15,\n",
       " -1.0547118733938987e-15,\n",
       " -1.0547118733938987e-15,\n",
       " -1.0547118733938987e-15]"
      ]
     },
     "execution_count": 18,
     "metadata": {},
     "output_type": "execute_result"
    }
   ],
   "source": [
    "import pickle as pkl \n",
    "\n",
    "graph = \"adsimx05\"\n",
    "file_path = \"/Users/huyngo/Desktop/Research/honeypot/result_budget/\" + str(graph) + \"_budget_analysis.pkl\"\n",
    "with open(file_path, 'rb') as f:\n",
    "    save_dict = pkl.load(f)\n",
    "\n",
    "zero_score = save_dict[\"0_score\"] \n",
    "half_score = save_dict[\"05_score\"]\n",
    "one_score = save_dict[\"1_score\"] \n",
    "\n",
    "zero_time = save_dict[\"0_time\"]\n",
    "half_time = save_dict[\"05_time\"]\n",
    "one_time = save_dict[\"1_time\"] \n",
    "\n",
    "\n",
    "score = zero_score\n",
    "score_true = []\n",
    "for i in range(len(zero_score)):\n",
    "    score_true.append(sum([score[i][v][0] for v in range(len(score[0]))])/len([score[i][v][0] for v in range(len(score[0]))]))\n",
    "zero_score_true = score_true\n",
    "\n",
    "score_competent = []\n",
    "for i in range(len(zero_score)):\n",
    "    score_competent.append(sum([score[i][v][2] for v in range(len(score[0]))])/len([score[i][v][2] for v in range(len(score[0]))]))\n",
    "zero_score_competent = score_competent\n",
    "\n",
    "score_simple = []\n",
    "for i in range(len(zero_score)):\n",
    "    score_simple.append(sum([score[i][v][1] for v in range(len(score[0]))])/len([score[i][v][1] for v in range(len(score[0]))]))\n",
    "zero_score_competent = score_competent\n",
    "\n",
    "score = half_score\n",
    "score_true = []\n",
    "for i in range(len(zero_score)):\n",
    "    score_true.append(sum([score[i][v][0] for v in range(len(score[0]))])/len([score[i][v][0] for v in range(len(score[0]))]))\n",
    "half_score_true = score_true\n",
    "\n",
    "score_competent = []\n",
    "for i in range(len(zero_score)):\n",
    "    score_competent.append(sum([score[i][v][2] for v in range(len(score[0]))])/len([score[i][v][2] for v in range(len(score[0]))]))\n",
    "half_score_competent = score_competent\n",
    "\n",
    "score_simple = []\n",
    "for i in range(len(zero_score)):\n",
    "    score_simple.append(sum([score[i][v][1] for v in range(len(score[0]))])/len([score[i][v][1] for v in range(len(score[0]))]))\n",
    "half_score_competent = score_competent\n",
    "\n",
    "score = one_score\n",
    "score_true = []\n",
    "for i in range(len(zero_score)):\n",
    "    score_true.append(sum([score[i][v][0] for v in range(len(score[0]))])/len([score[i][v][0] for v in range(len(score[0]))]))\n",
    "one_score_true = score_true\n",
    "\n",
    "score_competent = []\n",
    "for i in range(len(zero_score)):\n",
    "    score_competent.append(sum([score[i][v][2] for v in range(len(score[0]))])/len([score[i][v][2] for v in range(len(score[0]))]))\n",
    "one_score_competent = score_competent\n",
    "\n",
    "score_simple = []\n",
    "for i in range(len(zero_score)):\n",
    "    score_simple.append(sum([score[i][v][1] for v in range(len(score[0]))])/len([score[i][v][1] for v in range(len(score[0]))]))\n",
    "one_score_competent = score_competent\n",
    "\n",
    "\n",
    "\n"
   ]
  },
  {
   "cell_type": "code",
   "execution_count": 10,
   "id": "3c519827",
   "metadata": {},
   "outputs": [
    {
     "data": {
      "text/plain": [
       "3"
      ]
     },
     "execution_count": 10,
     "metadata": {},
     "output_type": "execute_result"
    }
   ],
   "source": [
    "len(zero_score[0][0])"
   ]
  },
  {
   "cell_type": "code",
   "execution_count": null,
   "id": "6a60e50f",
   "metadata": {},
   "outputs": [],
   "source": []
  }
 ],
 "metadata": {
  "kernelspec": {
   "display_name": "Python 3",
   "language": "python",
   "name": "python3"
  },
  "language_info": {
   "codemirror_mode": {
    "name": "ipython",
    "version": 3
   },
   "file_extension": ".py",
   "mimetype": "text/x-python",
   "name": "python",
   "nbconvert_exporter": "python",
   "pygments_lexer": "ipython3",
   "version": "3.9.6"
  },
  "vscode": {
   "interpreter": {
    "hash": "31f2aee4e71d21fbe5cf8b01ff0e069b9275f58929596ceb00d14d90e3e16cd6"
   }
  }
 },
 "nbformat": 4,
 "nbformat_minor": 5
}
